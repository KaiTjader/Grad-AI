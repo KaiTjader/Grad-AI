{
 "cells": [
  {
   "cell_type": "code",
   "execution_count": null,
   "metadata": {},
   "outputs": [],
   "source": [
    "import json\n",
    "import tensorflow as tf\n",
    "import keras\n",
    "from keras import layers\n",
    "import numpy as np\n",
    "from numba import jit\n",
    "\n",
    "from tensorflow.keras.preprocessing.text import Tokenizer\n",
    "from tensorflow.keras.preprocessing.sequence import pad_sequences"
   ]
  },
  {
   "cell_type": "code",
   "execution_count": null,
   "metadata": {},
   "outputs": [],
   "source": [
    "seed_text0 = \"I was told I could say a few words, so I built my own AI.\"\n",
    "seed_text1 = \"As I wrap up this speech, I would like to say a few words.\"\n",
    "seed_text2 = \"I would like to finish by saying\"\n",
    "seed_text3 = \"Stay dedicated to the people we have gotten to know here, because\"\n",
    "seed_text4 = \"the imposable\"\n",
    "seed_text = \"together we have changed yesterday, it is now time for us to change tomorrow \"\n",
    "next_words = 40\n",
    "tokenizer = Tokenizer() "
   ]
  },
  {
   "cell_type": "code",
   "execution_count": null,
   "metadata": {},
   "outputs": [],
   "source": [
    "data = \"You've gotta dance like there's nobody watching, Love like you'll never be hurt, Sing like there's nobody listening,And live like it's heaven on earth. You know you're in love when you can't fall asleep because reality is finally better than your dreams.\\n A friend is someone who knows all about you and still loves you. Darkness cannot drive out darkness: only light can do that. Hate cannot drive out hate: only love can do that. We accept the love we think we deserve. Only once in your life, I truly believe, you find someone who can completely turn your world around. You tell them things that youve never shared with another soul and they absorb everything you say and actually want to hear more.\\n You share hopes for the future, dreams that will never come true, goals that were never achieved and the many disappointments life has thrown at you. When something wonderful happens, you cant wait to tell them about it, knowing they will share in your excitement. They are not embarrassed to cry with you when you are hurting or laugh with you when you make a fool of yourself. Never do they hurt your feelings or make you feel like you are not good enough, but rather they build you up and show you the things about yourself that make you special and even beautiful. There is never any pressure, jealousy or competition but only a quiet calmness when they are around. You can be yourself and not worry about what they will think of you because they love you for who you are. The things that seem insignificant to most people such as a note, song or walk become invaluable treasures kept safe in your heart to cherish forever.\\n Memories of your childhood come back and are so clear and vivid its like being young again. Colours seem brighter and more brilliant. Laughter seems part of daily life where before it was infrequent or didnt exist at all.\\n A phone call or two during the day helps to get you through a long day work and always brings a smile to your face. In their presence, there need for continuous conversation, but you find youuite content in just having them nearby.\\n Things that never interested you before become fascinating because you know they are important to this person who is so special to you. You think of this person on every occasion and in everything you do. Simple things bring them to mind like a pale blue sky, gentle wind or even a storm cloud on the horizon. You open your heart knowing that therea chance it may be broken one day and in opening your heart, you experience a love and joy that you never dreamed possible. You find that being vulnerable is the only way to allow your heart to feel true pleasure thats so real it scares you. You find strength in knowing you have a true friend and possibly a soul mate who will remain loyal to the end. Life seems completely different, exciting and worthwhile. Your only hope and security is in knowing that they are a part of your life.\\n It is better to be hated for what you are than to be loved for what you are not. As he read, I fell in love the way you fall asleep: slowly, and then all at once. The opposite of love is not hate, it's indifference. The opposite of art is not ugliness, it's indifference. The opposite of faith is not heresy, it's indifference. And the opposite of life is not death, it's indifference. It is not a lack of love, but a lack of friendship that makes unhappy marriages. I love you without knowing how, or when, or from where. I love you simply, without problems or pride: I love you in this way because I do not know any other way of loving but this, in which there is no I or you, so intimate that your hand upon my chest is my hand, so intimate that when I fall asleep your eyes close.Love all, trust a few, do wrong to none.\\n Have you ever been in love? Horrible isn't it? It makes you so vulnerable. It opens your chest and it opens up your heart and it means that someone can get inside you and mess you up. Being deeply loved by someone gives you strength, while loving someone deeply gives you courage. This life is what you make it. No matter what, you're going to mess up sometimes, it's a universal truth. But the good part is you get to decide how you're going to mess it up. Girls will be your friends - they'll act like it anyway. But just remember, some come, some go. The ones that stay with you through everything - they're your true best friends. Don't let go of them. Also remember, sisters make the best friends in the world. As for lovers, well, they'll come and go too.\\n And baby, I hate to say it, most of them - actually pretty much all of them are going to break your heart, but you can't give up because if you give up, you'll never find your soulmate. You'll never find that half who makes you whole and that goes for everything. Just because you fail once, doesn't mean you're gonna fail at everything.\\n Keep trying, hold on, and always, always, always believe in yourself, because if you don't, then who will, sweetie? So keep your head high, keep your chin up, and most importantly, keep smiling, because life's a beautiful thing and there's so much to smile about. There is never a time or place for true love. It happens accidentally, in a heartbeat, in a single flashing, throbbing moment. Love is that condition in which the happiness of another person is essential to your own. You love me. Real or not real? I tell him, Real. You may not be her first, her last, or her only.\\n She loved before she may love again. But if she loves you now, what else matters? She's not perfect—you aren't either, and the two of you may never be perfect together but if she can make you laugh, cause you to think twice, and admit to being human and making mistakes, hold onto her and give her the most you can. She may not be thinking about you every second of the day, but she will give you a part of her that she knows you can break—her heart.\\n So don't hurt her, don't change her, don't analyze and don't expect more than she can give. Smile when she makes you happy, let her know when she makes you mad, and miss her when she's not there. I am nothing special, of this I am sure. I am a common man with common thoughts and I've led a common life. There are no monuments dedicated to me and my name will soon be forgotten, but I've loved another with all my heart and soul, and to me, this has always been enough. I'm in love with you, he said quietly.Augustus, I said.I am, he said. He was staring at me, and I could see the corners of his eyes crinkling. I'm in love with you, and I'm not in the business of denying myself the simple pleasure of saying true things.\\n I'm in love with you, and I know that love is just a shout into the void, and that oblivion is inevitable, and that we're all doomed and that there will come a day when all our labor has been returned to dust, and I know the sun will swallow the only earth we'll ever have, and I am in love with you. Love looks not with the eyes, but with the mind,And therefore is winged Cupid painted blind. Love is like the wind, you can't see it but you can feel it. People think a soul mate is your perfect fit, and that's what everyone wants. But a true soul mate is a mirror, the person who shows you everything that is holding you back, the person who brings you to your own attention so you can change your life. A true soul mate is probably the most important person you'll ever meet, because they tear down your walls and smack you awake. But to live with a soul mate forever? Nah. Too painful. Soul mates, they come into your life just to reveal another layer of yourself to you, and then leave. A soul mates purpose is to shake you up, tear apart your ego a little bit, show you your obstacles and addictions, break your heart open so new light can get in, make you so desperate and out of control that you have to transform your life, then introduce you to your spiritual master...\\n If you can make a woman laugh, you can make her do anything. You don't love someone because they're perfect, you love them in spite of the fact that they're not. Were all a little weird. And life is a little weird. And when we find someone whose weirdness is compatible with ours, we join up with them and fall into mutually satisfying weirdness—and call it love—true love. Love never dies a natural death. It dies because we don't know how to replenish its source.\\n It dies of blindness and errors and betrayals. It dies of illness and wounds; it dies of weariness, of witherings, of tarnishings. There is nothing I would not do for those who are really my friends. I have no notion of loving people by halves, it is not my nature. The real lover is the man who can thrill you by kissing your forehead or smiling into your eyes or just staring into space. If I had a flower for every time I thought of you... \\nI could walk through my garden forever. To love at all is to be vulnerable. Love anything and your heart will be wrung and possibly broken. If you want to make sure of keeping it intact you must give it to no one, not even an animal. Wrap it carefully round with hobbies and little luxuries; avoid all entanglements. Lock it up safe in the casket or coffin of your selfishness. But in that casket, safe, dark, motionless, airless, it will change.\\n It will not be broken; it will become unbreakable, impenetrable, irredeemable. To love is to be vulnerable. When someone loves you, the way they talk about you is different. You feel safe and comfortable. I've been making a list of the things they don't teach you at school. They don't teach you how to love somebody. They don't teach you how to be famous. They don't teach you how to be rich or how to be poor. They don't teach you how to walk away from someone you don't love any longer. They don't teach you how to know what's going on in someone else's mind. They don't teach you what to say to someone who's dying.\\n They don't teach you anything worth knowing. A lady's imagination is very rapid; it jumps from admiration to love, from love to matrimony in a moment. So it's not gonna be easy. It's going to be really hard; we're gonna have to work at this everyday, but I want to do that because I want you. I want all of you, forever, everyday. You and me... everyday. Just when you think it can't get any worse, it can. And just when you think it can't get any better, it can.\\n Tis better to have loved and lost, Than never to have loved at all. I love you as certain dark things are to be loved, in secret, between the shadow and the soul. Hes not perfect. You arent either, and the two of you will never be perfect. But if he can make you laugh at least once, causes you to think twice, and if he admits to being human and making mistakes, hold onto him and give him the most you can. He isnt going to quote poetry, hes not thinking about you every moment, but he will give you a part of him that he knows you could break. Dont hurt him, dont change him, and don expect for more than he can give.\\n Donanalyze. Smile when he makes you happy, yell when he makes you mad, and miss him when henot there. Love hard when there is love to be had. Because perfect guys donexist, but theres always one guy that is perfect for you. The one you love and the one who loves you are never, ever the same person.Every blessing ignored becomes a curse. You are, after all, what you think. Your emotions are the slaves to your thoughts, and you are the slave to your emotions. Shallow men believe in luck or in circumstance. Strong men believe in cause and effect. The easiest thing to be in the world is you.\\n The most difficult thing to be is what other people want you to be. Don't let them put you in that position. Nothing is permanent in this wicked world, not even our troubles.Certain thoughts are prayers. There are moments when, whatever be the attitude of the body, the soul is on its knees. If you have good thoughts they will shine out of your face like sunbeams and you will always look lovely. No act of kindness, no matter how small, is ever wasted.I've come to believe that each of us has a personal calling that's as unique as a fingerprint - and that the best way to succeed is to discover what you love and then find a way to offer it to others in the form of service, working hard, and also allowing the energy of the universe to lead you.\\n If you dont have any shadows you're not in the light Remember, if you ever need a helping hand, it's at the end of your arm, as you get older, remember you have another hand: The first is to help yourself, the second is to help others. Attitude is a little thing that makes a big difference. In the long run, the sharpest weapon of all is a kind and gentle spirit. I have a dream that one day little black boys and girls will be holding hands with little white boys and girls.\\n We must live together as brothers or perish together as fools. I sustain myself with the love of family. So many things are possible as long as you don't know they are impossible. Only those who attempt the absurd can achieve the impossible. Luck is what happens when preparation meets opportunity. A hero is no braver than an ordinary man, but he is brave five minutes longer.Only he who attempts the absurd is capable of achieving the impossible. All I can be is me- whoever that is. Start a huge, foolish project, like Noah…it makes absolutely no difference what people think of you. I do not care so much what I am to others as I care what I am to myself. Being brave is when you have to do something because you know it is right, but at the same time, you are afraid to do it, because it might hurt or whatever. But you do it anyway. In the end, you have to choose whether or not to trust someone.\\n But still, I find the need to remind myself of the temporariness of a day, to reassure myself that I got through yesterday, I'll get through today. No life is a waste, the Blue Man said. The only time we waste is the time we spend thinking we're alone. I'll think of it tomorrow, at Tara. I can stand it then. Tomorrow, I'll think of some way to get him back. After all, tomorrow is another day. Write it. Shoot it.  ublish it. Crochet it, sauté it, whatever. MAKE.\\n You save yourself or you remain unsaved. Always bear in mind that your own resolution to succeed is more important than any one thing. For beauty is nothing but the beginning of terrorwhich we are barely able to endure, and it amazes us so,because it serenely disdains to destroy us.Every angel is terrible. In friendship... we think we have chosen our peers. In reality a few years' difference in the dates of our births, a few more miles between certain houses, the choice of one university instead of another... the accident of a topic being raised or not raised at a first meeting--any of these chances might have kept us apart. But, for a Christian, there are, strictly speaking no chances. A secret master of ceremonies has been at work. Christ, who said to the disciples, Ye have not chosen me, but I have chosen you, can truly say to every group of Christian friends, Ye have not chosen one another but I have chosen you for one another.\\n The friendship is not a reward for our discriminating and good taste in finding one another out. It is the instrument by which God reveals to each of us the beauties of others. I have come home at last! This is my real country! I belong here. This is the land I have been looking for all my life, though I never knew it till now... Come further up, come further in! You must take life the way it comes at you and make the best of it.\\n The dog is a gentleman I trust that everything happens for a reason, even if we are not wise enough to see it. Not knowing you can't do something, is sometimes all it takes to do it. The universe is made of stories, not of atoms. Music is the literature of the heart. Everything's a risk. Not doing anything is a risk. It's up to you.Dripping water hollows out stone, not through force but through persistence.There's nothing wrong with you. There's a lot wrong with the world you live in. And definitely get out of high school and make everyone sorry. Live today. Not yesterday. Not tomorrow. Just today. Inhabit your moments. Dont rent them out to tomorrow. Do you know what youre doing when you spend a moment wondering how things are going to turn out with Perry?\\n Youe cheating yourself out of today. Today is calling to you, trying to get your attention, but youuck on tomorrow, and today trickles away like water down a drain. You wake up the next morning and that today you wasted is gone forever. Itesterday. Some of those moments may have had wonderful things in store for you, but now youver know.\\n Life is a process of becoming, a ombination of states we have to go through. Where people fail is that they wish to elect a state and remain in it. This is a kind of death. Anger is like flowing water; there's nothing wrong with it as long as you let it flow. Hate is like stagnant water; anger that you denied yourself the freedom to feel, the freedom to flow; water that you gathered in one place and left to forget.\\n Stagnant water becomes dirty, stinky, disease-ridden, poisonous, deadly; that is your hate. On flowing water travels little paper boats; paper boats of forgiveness. Allow yourself to feel anger, allow your waters to flow, along with all the paper boats of forgiveness. Be human. Where your treasure is, there will your heart be also. Without leaps of imagination or dreaming, we lose the excitement of possibilities. Dreaming, after all is a form of planning. When you see a good person, think of becoming like her/him. When you see someone not so good, reflect on your own weak points. Man is the only creature that consumes without producing. He does not give milk, he does not lay eggs, he is too weak to pull the plough, he cannot run fast enough to catch rabbits.\\n Yet he is lord of all the animals. He sets them to work, he gives back to them the bare minimum that will prevent them from starving, and the rest he keeps for himself. Life moves on, whether we act as cowards or heroes. Life has no other discipline to impose, if we would but realize it, than to accept life unquestioningly.\\n Everything we shut our eyes to, everything we run away from, everything we deny, denigrate or despise, serves to defeat us in the end. What seems nasty, painful, evil, can become a source of beauty, joy, and strength, if faced with an open mind. Every moment is a golden one for him who has the vision to recognize it as such I am a happy camper so I guess Ig something right. Happiness is like a butterfly; the more you chase it, the more it will elude you, but if you turn your attention to other things, it will come and sit softly on your shoulder.\\n As my sufferings mounted I soon realized that there were two ways in which I could respond to my situation -- either to react with bitterness or seek to transform the suffering into a creative force. I decided to follow the latter course. Oh, what a tangled web we weave...when first we practice to deceive.\\n I read somewhere... how important it is in life not necessarily to be strong, but to feel strong... to measure yourself at least once. You're never given a dream without also being given the power to make it true. Believe nothing, no matter where you read it, or who said it, no matter if I have said it, unless it agrees with your own reason and your own common sense. Bitch (noun): A woman who won't bang her head against the wall obsessing over someone else's opinion - be it a man or anyone else in her life.\\n She understands that if someone does not approve of her, it's just one person's opinion; therefore, it's of no real importance. She doesn't try to live up to anyone else's standards - only her own. Because of this, she relates to a man very differently. younot wanting mewasthe beginning of mewanting myselfthank you You're alive, Bod.\""
   ]
  },
  {
   "cell_type": "code",
   "execution_count": null,
   "metadata": {},
   "outputs": [],
   "source": [
    "corpus = data.lower().split(\"\\n\")\n",
    "tokenizer.fit_on_texts(corpus)\n",
    "total_words = len(tokenizer.word_index) + 1"
   ]
  },
  {
   "cell_type": "code",
   "execution_count": null,
   "metadata": {},
   "outputs": [],
   "source": [
    "input_sequences = []\n",
    "for line in corpus:\n",
    "    token_list = tokenizer.texts_to_sequences([line])[0]\n",
    "    for i in range(1, len(token_list)):\n",
    "        n_gram_sequence = token_list[:i+1]\n",
    "        input_sequences.append(n_gram_sequence)\n",
    "        \n",
    "max_sequence_len = max([len(x) for x in input_sequences])\n",
    "input_sequences = np.array(pad_sequences(input_sequences, maxlen=max_sequence_len, padding=\"pre\"))\n",
    "\n",
    "xs = input_sequences[:,:-1]\n",
    "labels = input_sequences[:,-1]\n",
    "ys = tf.keras.utils.to_categorical(labels, num_classes=total_words)"
   ]
  },
  {
   "cell_type": "code",
   "execution_count": null,
   "metadata": {},
   "outputs": [],
   "source": [
    "model = keras.Sequential()\n",
    "model.add(layers.Embedding(total_words, 240, input_length=max_sequence_len-1))\n",
    "model.add(layers.Bidirectional(keras.layers.LSTM(150)))\n",
    "model.add(layers.Dense(total_words, activation=\"softmax\"))\n",
    "# should be: lr = 0.001\n",
    "adam = tf.keras.optimizers.Adam(\n",
    "    learning_rate=0.1,\n",
    "    beta_1=0.9,\n",
    "    beta_2=0.999,\n",
    "    epsilon=1e-07,\n",
    "    amsgrad=False,\n",
    "    weight_decay=None,\n",
    "    clipnorm=None,\n",
    "    clipvalue=None,\n",
    "    global_clipnorm=None,\n",
    "    use_ema=False,\n",
    "    ema_momentum=0.99,\n",
    "    ema_overwrite_frequency=None,\n",
    "    loss_scale_factor=None,\n",
    "    gradient_accumulation_steps=None,\n",
    "    name=\"adam\"\n",
    ")\n",
    "model.compile(loss=\"categorical_crossentropy\", optimizer=adam, metrics=[\"accuracy\"])"
   ]
  },
  {
   "cell_type": "code",
   "execution_count": null,
   "metadata": {},
   "outputs": [],
   "source": [
    "@jit(forceobj=True)\n",
    "def trainModel():\n",
    "    history = model.fit(xs, ys, epochs=125, verbose=1)\n",
    "trainModel()"
   ]
  },
  {
   "cell_type": "code",
   "execution_count": null,
   "metadata": {},
   "outputs": [],
   "source": [
    "print(next_words)\n",
    "for _ in range(next_words):\n",
    "    token_list = tokenizer.texts_to_sequences([seed_text])[0]\n",
    "    token_list = pad_sequences([token_list], maxlen=max_sequence_len-1, padding=\"pre\")\n",
    "    \n",
    "    predict_x=model.predict(token_list)\n",
    "    classes_x=np.argmax(predict_x,axis=1)\n",
    "    \n",
    "    output_word = \"\"\n",
    "    for word, index in tokenizer.word_index.items():\n",
    "        if index == classes_x:\n",
    "            output_word = word\n",
    "            break\n",
    "    seed_text += \" \" + output_word\n",
    "print(seed_text)"
   ]
  }
 ],
 "metadata": {
  "kernelspec": {
   "display_name": ".venv",
   "language": "python",
   "name": "python3"
  },
  "language_info": {
   "codemirror_mode": {
    "name": "ipython",
    "version": 3
   },
   "file_extension": ".py",
   "mimetype": "text/x-python",
   "name": "python",
   "nbconvert_exporter": "python",
   "pygments_lexer": "ipython3",
   "version": "3.12.0"
  }
 },
 "nbformat": 4,
 "nbformat_minor": 2
}

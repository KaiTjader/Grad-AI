{
 "cells": [
  {
   "cell_type": "code",
   "execution_count": 8,
   "metadata": {},
   "outputs": [],
   "source": [
    "import json\n",
    "import tensorflow as tf\n",
    "\n",
    "from tensorflow.keras.preprocessing.text import Tokenizer\n",
    "from tensorflow.keras.preprocessing.sequence import pad_sequences"
   ]
  },
  {
   "cell_type": "code",
   "execution_count": 9,
   "metadata": {},
   "outputs": [],
   "source": [
    "vocab_size = 10000\n",
    "embedding_dim = 16\n",
    "max_length = 100\n",
    "trunc_type='post'\n",
    "padding_type='post'\n",
    "oov_tok = \"<OOV>\"\n",
    "training_size = 20000\n"
   ]
  },
  {
   "cell_type": "code",
   "execution_count": 13,
   "metadata": {},
   "outputs": [],
   "source": [
    "with open(\"Sarcasm_Headlines_Dataset.json\", 'r') as f:\n",
    "    datastore = json.load(f)\n",
    "\n",
    "sentences = []\n",
    "labels = []\n",
    "\n",
    "for item in datastore:\n",
    "    sentences.append(item['headline'])\n",
    "    labels.append(item['is_sarcastic'])"
   ]
  },
  {
   "cell_type": "code",
   "execution_count": 14,
   "metadata": {},
   "outputs": [],
   "source": [
    "training_sentences = sentences[0:training_size]\n",
    "testing_sentences = sentences[training_size:]\n",
    "training_labels = labels[0:training_size]\n",
    "testing_labels = labels[training_size:]"
   ]
  },
  {
   "cell_type": "code",
   "execution_count": 15,
   "metadata": {},
   "outputs": [],
   "source": [
    "tokenizer = Tokenizer(num_words=vocab_size, oov_token=oov_tok)\n",
    "tokenizer.fit_on_texts(training_sentences)\n",
    "\n",
    "word_index = tokenizer.word_index\n",
    "\n",
    "training_sequences = tokenizer.texts_to_sequences(training_sentences)\n",
    "training_padded = pad_sequences(training_sequences, maxlen=max_length, padding=padding_type, truncating=trunc_type)\n",
    "\n",
    "testing_sequences = tokenizer.texts_to_sequences(testing_sentences)\n",
    "testing_padded = pad_sequences(testing_sequences, maxlen=max_length, padding=padding_type, truncating=trunc_type)"
   ]
  },
  {
   "cell_type": "code",
   "execution_count": 16,
   "metadata": {},
   "outputs": [],
   "source": [
    "import numpy as np\n",
    "training_padded = np.array(training_padded)\n",
    "training_labels = np.array(training_labels)\n",
    "testing_padded = np.array(testing_padded)\n",
    "testing_labels = np.array(testing_labels)"
   ]
  },
  {
   "cell_type": "code",
   "execution_count": 17,
   "metadata": {},
   "outputs": [
    {
     "name": "stderr",
     "output_type": "stream",
     "text": [
      "c:\\Users\\kaitj\\OneDrive\\Desktop\\Grad AI\\.venv\\Lib\\site-packages\\keras\\src\\layers\\core\\embedding.py:90: UserWarning: Argument `input_length` is deprecated. Just remove it.\n",
      "  warnings.warn(\n"
     ]
    }
   ],
   "source": [
    "model = tf.keras.Sequential([\n",
    "    tf.keras.layers.Embedding(vocab_size, embedding_dim, input_length=max_length),\n",
    "    tf.keras.layers.GlobalAveragePooling1D(),\n",
    "    tf.keras.layers.Dense(24, activation='relu'),\n",
    "    tf.keras.layers.Dense(1, activation='sigmoid')\n",
    "])\n",
    "model.compile(loss='binary_crossentropy',optimizer='adam',metrics=['accuracy'])"
   ]
  },
  {
   "cell_type": "code",
   "execution_count": 18,
   "metadata": {},
   "outputs": [
    {
     "data": {
      "text/html": [
       "<pre style=\"white-space:pre;overflow-x:auto;line-height:normal;font-family:Menlo,'DejaVu Sans Mono',consolas,'Courier New',monospace\"><span style=\"font-weight: bold\">Model: \"sequential\"</span>\n",
       "</pre>\n"
      ],
      "text/plain": [
       "\u001b[1mModel: \"sequential\"\u001b[0m\n"
      ]
     },
     "metadata": {},
     "output_type": "display_data"
    },
    {
     "data": {
      "text/html": [
       "<pre style=\"white-space:pre;overflow-x:auto;line-height:normal;font-family:Menlo,'DejaVu Sans Mono',consolas,'Courier New',monospace\">┏━━━━━━━━━━━━━━━━━━━━━━━━━━━━━━━━━┳━━━━━━━━━━━━━━━━━━━━━━━━┳━━━━━━━━━━━━━━━┓\n",
       "┃<span style=\"font-weight: bold\"> Layer (type)                    </span>┃<span style=\"font-weight: bold\"> Output Shape           </span>┃<span style=\"font-weight: bold\">       Param # </span>┃\n",
       "┡━━━━━━━━━━━━━━━━━━━━━━━━━━━━━━━━━╇━━━━━━━━━━━━━━━━━━━━━━━━╇━━━━━━━━━━━━━━━┩\n",
       "│ embedding (<span style=\"color: #0087ff; text-decoration-color: #0087ff\">Embedding</span>)           │ ?                      │   <span style=\"color: #00af00; text-decoration-color: #00af00\">0</span> (unbuilt) │\n",
       "├─────────────────────────────────┼────────────────────────┼───────────────┤\n",
       "│ global_average_pooling1d        │ ?                      │   <span style=\"color: #00af00; text-decoration-color: #00af00\">0</span> (unbuilt) │\n",
       "│ (<span style=\"color: #0087ff; text-decoration-color: #0087ff\">GlobalAveragePooling1D</span>)        │                        │               │\n",
       "├─────────────────────────────────┼────────────────────────┼───────────────┤\n",
       "│ dense (<span style=\"color: #0087ff; text-decoration-color: #0087ff\">Dense</span>)                   │ ?                      │   <span style=\"color: #00af00; text-decoration-color: #00af00\">0</span> (unbuilt) │\n",
       "├─────────────────────────────────┼────────────────────────┼───────────────┤\n",
       "│ dense_1 (<span style=\"color: #0087ff; text-decoration-color: #0087ff\">Dense</span>)                 │ ?                      │   <span style=\"color: #00af00; text-decoration-color: #00af00\">0</span> (unbuilt) │\n",
       "└─────────────────────────────────┴────────────────────────┴───────────────┘\n",
       "</pre>\n"
      ],
      "text/plain": [
       "┏━━━━━━━━━━━━━━━━━━━━━━━━━━━━━━━━━┳━━━━━━━━━━━━━━━━━━━━━━━━┳━━━━━━━━━━━━━━━┓\n",
       "┃\u001b[1m \u001b[0m\u001b[1mLayer (type)                   \u001b[0m\u001b[1m \u001b[0m┃\u001b[1m \u001b[0m\u001b[1mOutput Shape          \u001b[0m\u001b[1m \u001b[0m┃\u001b[1m \u001b[0m\u001b[1m      Param #\u001b[0m\u001b[1m \u001b[0m┃\n",
       "┡━━━━━━━━━━━━━━━━━━━━━━━━━━━━━━━━━╇━━━━━━━━━━━━━━━━━━━━━━━━╇━━━━━━━━━━━━━━━┩\n",
       "│ embedding (\u001b[38;5;33mEmbedding\u001b[0m)           │ ?                      │   \u001b[38;5;34m0\u001b[0m (unbuilt) │\n",
       "├─────────────────────────────────┼────────────────────────┼───────────────┤\n",
       "│ global_average_pooling1d        │ ?                      │   \u001b[38;5;34m0\u001b[0m (unbuilt) │\n",
       "│ (\u001b[38;5;33mGlobalAveragePooling1D\u001b[0m)        │                        │               │\n",
       "├─────────────────────────────────┼────────────────────────┼───────────────┤\n",
       "│ dense (\u001b[38;5;33mDense\u001b[0m)                   │ ?                      │   \u001b[38;5;34m0\u001b[0m (unbuilt) │\n",
       "├─────────────────────────────────┼────────────────────────┼───────────────┤\n",
       "│ dense_1 (\u001b[38;5;33mDense\u001b[0m)                 │ ?                      │   \u001b[38;5;34m0\u001b[0m (unbuilt) │\n",
       "└─────────────────────────────────┴────────────────────────┴───────────────┘\n"
      ]
     },
     "metadata": {},
     "output_type": "display_data"
    },
    {
     "data": {
      "text/html": [
       "<pre style=\"white-space:pre;overflow-x:auto;line-height:normal;font-family:Menlo,'DejaVu Sans Mono',consolas,'Courier New',monospace\"><span style=\"font-weight: bold\"> Total params: </span><span style=\"color: #00af00; text-decoration-color: #00af00\">0</span> (0.00 B)\n",
       "</pre>\n"
      ],
      "text/plain": [
       "\u001b[1m Total params: \u001b[0m\u001b[38;5;34m0\u001b[0m (0.00 B)\n"
      ]
     },
     "metadata": {},
     "output_type": "display_data"
    },
    {
     "data": {
      "text/html": [
       "<pre style=\"white-space:pre;overflow-x:auto;line-height:normal;font-family:Menlo,'DejaVu Sans Mono',consolas,'Courier New',monospace\"><span style=\"font-weight: bold\"> Trainable params: </span><span style=\"color: #00af00; text-decoration-color: #00af00\">0</span> (0.00 B)\n",
       "</pre>\n"
      ],
      "text/plain": [
       "\u001b[1m Trainable params: \u001b[0m\u001b[38;5;34m0\u001b[0m (0.00 B)\n"
      ]
     },
     "metadata": {},
     "output_type": "display_data"
    },
    {
     "data": {
      "text/html": [
       "<pre style=\"white-space:pre;overflow-x:auto;line-height:normal;font-family:Menlo,'DejaVu Sans Mono',consolas,'Courier New',monospace\"><span style=\"font-weight: bold\"> Non-trainable params: </span><span style=\"color: #00af00; text-decoration-color: #00af00\">0</span> (0.00 B)\n",
       "</pre>\n"
      ],
      "text/plain": [
       "\u001b[1m Non-trainable params: \u001b[0m\u001b[38;5;34m0\u001b[0m (0.00 B)\n"
      ]
     },
     "metadata": {},
     "output_type": "display_data"
    }
   ],
   "source": [
    "model.summary()\n"
   ]
  },
  {
   "cell_type": "code",
   "execution_count": 20,
   "metadata": {},
   "outputs": [
    {
     "name": "stdout",
     "output_type": "stream",
     "text": [
      "Epoch 1/60\n",
      "625/625 - 1s - 2ms/step - accuracy: 0.9679 - loss: 0.0871 - val_accuracy: 0.8018 - val_loss: 0.6765\n",
      "Epoch 2/60\n",
      "625/625 - 1s - 2ms/step - accuracy: 0.9660 - loss: 0.0922 - val_accuracy: 0.8317 - val_loss: 0.5807\n",
      "Epoch 3/60\n",
      "625/625 - 1s - 2ms/step - accuracy: 0.9694 - loss: 0.0817 - val_accuracy: 0.8375 - val_loss: 0.5789\n",
      "Epoch 4/60\n",
      "625/625 - 1s - 2ms/step - accuracy: 0.9704 - loss: 0.0811 - val_accuracy: 0.8371 - val_loss: 0.5915\n",
      "Epoch 5/60\n",
      "625/625 - 1s - 2ms/step - accuracy: 0.9679 - loss: 0.0836 - val_accuracy: 0.8250 - val_loss: 0.6791\n",
      "Epoch 6/60\n",
      "625/625 - 1s - 2ms/step - accuracy: 0.9693 - loss: 0.0817 - val_accuracy: 0.8356 - val_loss: 0.6101\n",
      "Epoch 7/60\n",
      "625/625 - 1s - 2ms/step - accuracy: 0.9685 - loss: 0.0835 - val_accuracy: 0.8280 - val_loss: 0.6770\n",
      "Epoch 8/60\n",
      "625/625 - 2s - 3ms/step - accuracy: 0.9721 - loss: 0.0757 - val_accuracy: 0.8307 - val_loss: 0.6356\n",
      "Epoch 9/60\n",
      "625/625 - 2s - 3ms/step - accuracy: 0.9727 - loss: 0.0726 - val_accuracy: 0.8340 - val_loss: 0.6497\n",
      "Epoch 10/60\n",
      "625/625 - 2s - 3ms/step - accuracy: 0.9683 - loss: 0.0831 - val_accuracy: 0.8319 - val_loss: 0.6266\n",
      "Epoch 11/60\n",
      "625/625 - 2s - 4ms/step - accuracy: 0.9723 - loss: 0.0733 - val_accuracy: 0.7791 - val_loss: 1.1210\n",
      "Epoch 12/60\n",
      "625/625 - 2s - 3ms/step - accuracy: 0.9710 - loss: 0.0736 - val_accuracy: 0.8310 - val_loss: 0.6654\n",
      "Epoch 13/60\n",
      "625/625 - 2s - 3ms/step - accuracy: 0.9718 - loss: 0.0768 - val_accuracy: 0.8256 - val_loss: 0.7356\n",
      "Epoch 14/60\n",
      "625/625 - 2s - 3ms/step - accuracy: 0.9743 - loss: 0.0689 - val_accuracy: 0.8256 - val_loss: 0.7489\n",
      "Epoch 15/60\n",
      "625/625 - 2s - 3ms/step - accuracy: 0.9790 - loss: 0.0607 - val_accuracy: 0.8232 - val_loss: 0.7789\n",
      "Epoch 16/60\n",
      "625/625 - 2s - 3ms/step - accuracy: 0.9762 - loss: 0.0642 - val_accuracy: 0.8188 - val_loss: 0.7396\n",
      "Epoch 17/60\n",
      "625/625 - 2s - 3ms/step - accuracy: 0.9788 - loss: 0.0593 - val_accuracy: 0.8286 - val_loss: 0.7248\n",
      "Epoch 18/60\n",
      "625/625 - 2s - 3ms/step - accuracy: 0.9795 - loss: 0.0578 - val_accuracy: 0.8176 - val_loss: 0.8698\n",
      "Epoch 19/60\n",
      "625/625 - 2s - 3ms/step - accuracy: 0.9761 - loss: 0.0645 - val_accuracy: 0.8253 - val_loss: 0.7547\n",
      "Epoch 20/60\n",
      "625/625 - 2s - 3ms/step - accuracy: 0.9700 - loss: 0.0786 - val_accuracy: 0.8244 - val_loss: 0.7737\n",
      "Epoch 21/60\n",
      "625/625 - 2s - 3ms/step - accuracy: 0.9754 - loss: 0.0708 - val_accuracy: 0.8267 - val_loss: 0.6944\n",
      "Epoch 22/60\n",
      "625/625 - 2s - 3ms/step - accuracy: 0.9823 - loss: 0.0496 - val_accuracy: 0.8243 - val_loss: 0.7780\n",
      "Epoch 23/60\n",
      "625/625 - 2s - 3ms/step - accuracy: 0.9827 - loss: 0.0477 - val_accuracy: 0.8149 - val_loss: 0.9505\n",
      "Epoch 24/60\n",
      "625/625 - 2s - 3ms/step - accuracy: 0.9783 - loss: 0.0580 - val_accuracy: 0.8250 - val_loss: 0.7954\n",
      "Epoch 25/60\n",
      "625/625 - 2s - 3ms/step - accuracy: 0.9801 - loss: 0.0538 - val_accuracy: 0.8232 - val_loss: 0.8157\n",
      "Epoch 26/60\n",
      "625/625 - 2s - 3ms/step - accuracy: 0.9812 - loss: 0.0505 - val_accuracy: 0.8231 - val_loss: 0.8366\n",
      "Epoch 27/60\n",
      "625/625 - 3s - 4ms/step - accuracy: 0.9798 - loss: 0.0528 - val_accuracy: 0.8234 - val_loss: 0.8349\n",
      "Epoch 28/60\n",
      "625/625 - 2s - 3ms/step - accuracy: 0.9782 - loss: 0.0575 - val_accuracy: 0.8216 - val_loss: 0.8602\n",
      "Epoch 29/60\n",
      "625/625 - 2s - 3ms/step - accuracy: 0.9803 - loss: 0.0542 - val_accuracy: 0.8201 - val_loss: 0.8554\n",
      "Epoch 30/60\n",
      "625/625 - 2s - 3ms/step - accuracy: 0.9821 - loss: 0.0495 - val_accuracy: 0.8125 - val_loss: 1.0144\n",
      "Epoch 31/60\n",
      "625/625 - 2s - 3ms/step - accuracy: 0.9822 - loss: 0.0508 - val_accuracy: 0.8204 - val_loss: 0.8273\n",
      "Epoch 32/60\n",
      "625/625 - 2s - 3ms/step - accuracy: 0.9805 - loss: 0.0526 - val_accuracy: 0.8193 - val_loss: 0.8653\n",
      "Epoch 33/60\n",
      "625/625 - 2s - 3ms/step - accuracy: 0.9804 - loss: 0.0539 - val_accuracy: 0.8210 - val_loss: 0.8590\n",
      "Epoch 34/60\n",
      "625/625 - 2s - 3ms/step - accuracy: 0.9854 - loss: 0.0406 - val_accuracy: 0.8192 - val_loss: 0.9070\n",
      "Epoch 35/60\n",
      "625/625 - 2s - 3ms/step - accuracy: 0.9825 - loss: 0.0470 - val_accuracy: 0.8179 - val_loss: 0.9444\n",
      "Epoch 36/60\n",
      "625/625 - 2s - 4ms/step - accuracy: 0.9815 - loss: 0.0492 - val_accuracy: 0.8168 - val_loss: 0.9261\n",
      "Epoch 37/60\n",
      "625/625 - 2s - 3ms/step - accuracy: 0.9869 - loss: 0.0374 - val_accuracy: 0.8170 - val_loss: 0.9432\n",
      "Epoch 38/60\n",
      "625/625 - 2s - 3ms/step - accuracy: 0.9775 - loss: 0.0677 - val_accuracy: 0.8126 - val_loss: 0.9850\n",
      "Epoch 39/60\n",
      "625/625 - 2s - 4ms/step - accuracy: 0.9797 - loss: 0.0646 - val_accuracy: 0.8167 - val_loss: 0.9233\n",
      "Epoch 40/60\n",
      "625/625 - 2s - 3ms/step - accuracy: 0.9823 - loss: 0.0466 - val_accuracy: 0.8165 - val_loss: 0.9222\n",
      "Epoch 41/60\n",
      "625/625 - 3s - 4ms/step - accuracy: 0.9850 - loss: 0.0395 - val_accuracy: 0.8168 - val_loss: 1.0303\n",
      "Epoch 42/60\n",
      "625/625 - 2s - 3ms/step - accuracy: 0.9839 - loss: 0.0432 - val_accuracy: 0.8103 - val_loss: 0.9714\n",
      "Epoch 43/60\n",
      "625/625 - 2s - 3ms/step - accuracy: 0.9814 - loss: 0.0515 - val_accuracy: 0.8111 - val_loss: 0.9163\n",
      "Epoch 44/60\n",
      "625/625 - 2s - 3ms/step - accuracy: 0.9875 - loss: 0.0357 - val_accuracy: 0.8132 - val_loss: 1.1176\n",
      "Epoch 45/60\n",
      "625/625 - 2s - 4ms/step - accuracy: 0.9880 - loss: 0.0337 - val_accuracy: 0.8089 - val_loss: 1.0502\n",
      "Epoch 46/60\n",
      "625/625 - 2s - 4ms/step - accuracy: 0.9847 - loss: 0.0432 - val_accuracy: 0.7962 - val_loss: 1.0896\n",
      "Epoch 47/60\n",
      "625/625 - 2s - 3ms/step - accuracy: 0.9811 - loss: 0.0513 - val_accuracy: 0.8138 - val_loss: 1.0037\n",
      "Epoch 48/60\n",
      "625/625 - 2s - 4ms/step - accuracy: 0.9872 - loss: 0.0360 - val_accuracy: 0.8119 - val_loss: 1.0344\n",
      "Epoch 49/60\n",
      "625/625 - 2s - 3ms/step - accuracy: 0.9835 - loss: 0.0444 - val_accuracy: 0.8147 - val_loss: 0.9841\n",
      "Epoch 50/60\n",
      "625/625 - 2s - 3ms/step - accuracy: 0.9855 - loss: 0.0396 - val_accuracy: 0.8067 - val_loss: 1.0378\n",
      "Epoch 51/60\n",
      "625/625 - 2s - 3ms/step - accuracy: 0.9866 - loss: 0.0380 - val_accuracy: 0.8135 - val_loss: 1.1086\n",
      "Epoch 52/60\n",
      "625/625 - 2s - 3ms/step - accuracy: 0.9863 - loss: 0.0381 - val_accuracy: 0.8131 - val_loss: 1.1445\n",
      "Epoch 53/60\n",
      "625/625 - 2s - 4ms/step - accuracy: 0.9832 - loss: 0.0475 - val_accuracy: 0.8158 - val_loss: 0.9045\n",
      "Epoch 54/60\n",
      "625/625 - 2s - 4ms/step - accuracy: 0.9846 - loss: 0.0443 - val_accuracy: 0.8156 - val_loss: 0.9872\n",
      "Epoch 55/60\n",
      "625/625 - 2s - 3ms/step - accuracy: 0.9872 - loss: 0.0345 - val_accuracy: 0.8137 - val_loss: 1.1622\n",
      "Epoch 56/60\n",
      "625/625 - 2s - 4ms/step - accuracy: 0.9836 - loss: 0.0431 - val_accuracy: 0.8114 - val_loss: 1.0502\n",
      "Epoch 57/60\n",
      "625/625 - 2s - 4ms/step - accuracy: 0.9874 - loss: 0.0331 - val_accuracy: 0.8138 - val_loss: 1.0602\n",
      "Epoch 58/60\n",
      "625/625 - 2s - 3ms/step - accuracy: 0.9863 - loss: 0.0364 - val_accuracy: 0.8122 - val_loss: 1.0825\n",
      "Epoch 59/60\n",
      "625/625 - 2s - 4ms/step - accuracy: 0.9866 - loss: 0.0370 - val_accuracy: 0.8162 - val_loss: 1.0494\n",
      "Epoch 60/60\n",
      "625/625 - 2s - 4ms/step - accuracy: 0.9890 - loss: 0.0319 - val_accuracy: 0.7964 - val_loss: 1.1904\n"
     ]
    }
   ],
   "source": [
    "num_epochs = 60\n",
    "history = model.fit(training_padded, training_labels, epochs=num_epochs, validation_data=(testing_padded, testing_labels), verbose=2)"
   ]
  }
 ],
 "metadata": {
  "kernelspec": {
   "display_name": ".venv",
   "language": "python",
   "name": "python3"
  },
  "language_info": {
   "codemirror_mode": {
    "name": "ipython",
    "version": 3
   },
   "file_extension": ".py",
   "mimetype": "text/x-python",
   "name": "python",
   "nbconvert_exporter": "python",
   "pygments_lexer": "ipython3",
   "version": "3.12.0"
  }
 },
 "nbformat": 4,
 "nbformat_minor": 2
}
